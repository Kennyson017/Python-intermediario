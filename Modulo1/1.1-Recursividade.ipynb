{
 "cells": [
  {
   "cell_type": "markdown",
   "id": "c87bc264",
   "metadata": {},
   "source": [
    "> Projeto Desenvolve <br>\n",
    "Programação Intermediária com Python <br>\n",
    "Profa. Camila Laranjeira (mila@projetodesenvolve.com.br) <br>\n",
    "\n",
    "# 1.1 - Recursividade"
   ]
  },
  {
   "cell_type": "markdown",
   "id": "02e47197",
   "metadata": {},
   "source": [
    "## Exercícios:\n",
    "\n",
    "#### **Q1**. \n",
    "Faça um procedimento recursivo que receba dois valores inteiros `a` e `b` e imprime o intervalo fechado entre eles. Se `a > b` imprima uma mensagem de erro.\n",
    "\n",
    "| Entrada |  Saída |\n",
    "| ------- | ------ |\n",
    "| 1 10    | 1 2 3 4 5 6 7 8 9 10 |\n",
    "| -5 1    | -5 -4 -3 -2 -1 |\n",
    "| 5 -5    | Valores invalidos |\n",
    "| 17 20   | 17 18 19 20 |"
   ]
  },
  {
   "cell_type": "code",
   "execution_count": 1,
   "id": "e89a9966",
   "metadata": {},
   "outputs": [
    {
     "name": "stdout",
     "output_type": "stream",
     "text": [
      "1 2 3 4 5 6 7 8 9 10\n",
      "-5 -4 -3 -2 -1 0 1\n",
      "Valores invalidos\n",
      "17 18 19 20\n"
     ]
    }
   ],
   "source": [
    "def interval(a, b):\n",
    "    if a > b:\n",
    "        print(f\"Valores invalidos\")\n",
    "        return\n",
    "    \n",
    "    # CASO BASE\n",
    "    elif a == b:\n",
    "        print(a, end = \"\\n\")\n",
    "\n",
    "    # PASSO RECURSIVO\n",
    "    else:\n",
    "        print(a, end = \" \")\n",
    "        interval( a + 1 , b)\n",
    "    \n",
    "interval(1,10)\n",
    "interval(-5,1)\n",
    "interval(5,-5)\n",
    "interval(17,20)"
   ]
  },
  {
   "cell_type": "markdown",
   "id": "b48196ed",
   "metadata": {},
   "source": [
    "---\n",
    "\n",
    "\n",
    "#### **Q2**. \n",
    "Mudando **apenas uma linha**, altere o código anterior para imprimir o intervalo invertido.\n",
    "\n",
    "| Entrada |  Saída |\n",
    "| ------- | ------ |\n",
    "| 1 10    | 10 9 8 7 6 5 4 3 2 1 |\n",
    "| -5 1    | -1 -2 -3 -4 -5 |\n",
    "| 5 -5    | Valores invalidos |\n",
    "| 17 20   | 20 19 18 17 |"
   ]
  },
  {
   "cell_type": "code",
   "execution_count": 43,
   "id": "4d0c21b4",
   "metadata": {},
   "outputs": [
    {
     "name": "stdout",
     "output_type": "stream",
     "text": [
      "10 9 8 7 6 5 4 3 2 1 "
     ]
    }
   ],
   "source": [
    "def interval(a, b):\n",
    "    if a > b:\n",
    "        print(f\"Valores invalidos\")\n",
    "        return\n",
    "    \n",
    "    # CASO BASE\n",
    "    elif a == b:\n",
    "        print(a, end = \" \")\n",
    "\n",
    "    # PASSO RECURSIVO\n",
    "    else:\n",
    "        interval( a + 1 , b)\n",
    "        print(a, end = \" \")\n",
    "    \n",
    "interval(1,10)\n",
    "# interval(-5,1)\n",
    "# interval(5,-5)\n",
    "# interval(17,20)"
   ]
  },
  {
   "cell_type": "markdown",
   "id": "be727074",
   "metadata": {},
   "source": [
    "\n",
    "\n",
    "---\n",
    "\n",
    "\n",
    "#### **Q3**. \n",
    "Escreva uma função recursiva que recebe um inteiro `n > 1` e calcula a soma dos valores entre `n` e `1`.\n",
    "\n",
    "| Entrada |  Saída |\n",
    "| ------- | ------ |\n",
    "| 5   | 15 |\n",
    "| 13  | 78 |"
   ]
  },
  {
   "cell_type": "code",
   "execution_count": 1,
   "id": "c4da98b8",
   "metadata": {},
   "outputs": [
    {
     "name": "stdout",
     "output_type": "stream",
     "text": [
      "120\n"
     ]
    }
   ],
   "source": [
    "def soma(n):\n",
    "    if n == 1:\n",
    "        return n  # Retorna o valor correto no caso base\n",
    "\n",
    "    return n + soma(n - 1)  # Retorna a soma acumulada\n",
    "\n",
    "print(soma(15)) "
   ]
  },
  {
   "cell_type": "markdown",
   "id": "4142b276",
   "metadata": {},
   "source": [
    "\n",
    "\n",
    "---\n",
    "\n",
    "\n",
    "#### **Q4**.  \n",
    "\n",
    "Escreva uma função recursiva que recebe um inteiro `n` e verifica se `n`é um valor primo, ou seja, se é divisível apenas por si mesmo e por `1`."
   ]
  },
  {
   "cell_type": "code",
   "execution_count": 5,
   "id": "4c96eb2d",
   "metadata": {},
   "outputs": [
    {
     "name": "stdout",
     "output_type": "stream",
     "text": [
      "Conferencia em LOOP\n",
      "1 não é primo\n",
      "2 é primo\n",
      "3 é primo\n",
      "4 não é primo\n",
      "5 é primo\n",
      "6 não é primo\n",
      "7 é primo\n",
      "---------------------------\n",
      "Conferencia RECURSIVA\n",
      "1 não é primo\n",
      "2 é primo\n",
      "3 é primo\n",
      "4 não é primo\n",
      "5 é primo\n",
      "6 não é primo\n",
      "7 é primo\n"
     ]
    }
   ],
   "source": [
    "def primo(n, divisor=None):\n",
    "\n",
    "    \"\"\" Essa função foi feita a partir da seguinte lógica, todo número primo é divisivel por um e por ele mesmo, sendo assim, foi eliminada a divisão do número por ele mesmo e colocado como caso base a a divisão por 1 para definir o número primo (afinal qualquer nº é divisivel por si proprio), se antes do divisor ser 1 existir algum resto zero, o número será divisivel por outro além de 1 e ele mesmo e não será primo. Caso contrario, o divisor chegara em 1 restando a certeza de que o número não é divisivel por nenhum nº além de 1 e si proprio.\"\"\"\n",
    "\n",
    "    if divisor is None: # Associa o divisor como n -1 para a primeira chamada da função em que o divisor será None. \n",
    "        divisor = n - 1 \n",
    "\n",
    "    if n < 2: # Números menores que 2 não são primos\n",
    "        return \"não é primo\"\n",
    "\n",
    "    elif divisor == 1: # Se o divisor chegou em 1 o número é primo\n",
    "        return \"é primo\"\n",
    "    \n",
    "    elif n % divisor == 0: # Se a divisão por um número diferente de 1 deu resto zero, o número não é primo\n",
    "        return \"não é primo\"\n",
    "    \n",
    "    return primo(n, divisor - 1) # Chamada recursiva\n",
    "\n",
    "def n_check(x):\n",
    "    if x == 1:\n",
    "        return print(f\"{x} {primo(x)}\")\n",
    "    \n",
    "    n_check(x-1)\n",
    "    return  print(f\"{x} {primo(x)}\")\n",
    "\n",
    "def n_check_loop(y):\n",
    "    for i in range(1, y+1):\n",
    "        print(f\"{i} {primo(i)}\")\n",
    "\n",
    "print(\"Conferencia em LOOP\")\n",
    "\n",
    "n_check_loop(7)\n",
    "\n",
    "print(\"---------------------------\")\n",
    "\n",
    "print(\"Conferencia RECURSIVA\")\n",
    "\n",
    "n_check(7)"
   ]
  },
  {
   "cell_type": "markdown",
   "id": "2a0ae81c",
   "metadata": {},
   "source": [
    "\n",
    "\n",
    "---\n",
    "\n",
    "\n",
    "#### **Q5**. \n",
    "Implemente uma função recursiva que recebe um número inteiro decimal e retorna sua representação binária como uma string. Para realizar essa conversão, utilize o método de divisão sucessiva, onde você divide o número decimal por 2 e coleta os restos até que o quociente seja zero. A ordem dos restos coletados, de baixo para cima, forma o número binário correspondente.\n",
    "\n",
    "**Exemplo de Conversão:**\n",
    "\n",
    "Para converter o número decimal 13 para binário:\n",
    "```\n",
    "13 ÷ 2 = 6, resto 1\n",
    "6 ÷ 2 = 3, resto 0\n",
    "3 ÷ 2 = 1, resto 1\n",
    "1 ÷ 2 = 0, resto 1\n",
    "```\n",
    "Lendo os restos de baixo para cima, obtemos o número binário `1101`."
   ]
  },
  {
   "cell_type": "code",
   "execution_count": 4,
   "id": "a7d954f0",
   "metadata": {},
   "outputs": [
    {
     "name": "stdout",
     "output_type": "stream",
     "text": [
      "25 0\n",
      "12 1\n",
      "6 0\n",
      "3 0\n",
      "1 1\n",
      "0 1\n"
     ]
    },
    {
     "data": {
      "text/plain": [
       "'110010'"
      ]
     },
     "execution_count": 4,
     "metadata": {},
     "output_type": "execute_result"
    }
   ],
   "source": [
    "def binario(n):\n",
    "    if n == 0:\n",
    "        return f\"\"  # Retorna uma string vazia na base da recursão\n",
    "    \n",
    "    print(n//2, n%2)\n",
    "    return binario(n // 2) + str(n % 2)  # Concatena os restos da divisão\n",
    "\n",
    "binario(50)"
   ]
  },
  {
   "cell_type": "markdown",
   "id": "0f500709",
   "metadata": {},
   "source": [
    "\n",
    "\n",
    "---\n",
    "\n",
    "\n",
    "#### **Extra**: \n",
    "\n",
    "Implemente uma função recursiva em Python que realiza a travessia em pré-ordem de uma árvore binária representada por listas aninhadas. Na travessia em pré-ordem (ou pré-fixada), o nó raiz é visitado primeiro, seguido pela subárvore esquerda e, por fim, pela subárvore direita. A questão fixa as constantes `RAIZ_IDX, ESQ_IDX, DIR_IDX` representando os índices da lista onde se encontra o valor raíz, o nó a esquerda e o nó a direita.\n",
    "\n",
    "```\n",
    "# Representação visual da árvore\n",
    "       4\n",
    "      / \\\n",
    "     2   5\n",
    "    / \\\n",
    "   1   3'\n",
    "```"
   ]
  },
  {
   "cell_type": "code",
   "execution_count": 1,
   "id": "10df4831",
   "metadata": {},
   "outputs": [],
   "source": [
    "RAIZ_IDX, ESQ_IDX, DIR_IDX = 0, 1, 2\n",
    "\n",
    "arvore = [\n",
    "    4,              # raíz, nível 0\n",
    "    [               # ramo da esquerda, nível 1\n",
    "        2,          # valor filho esquerda\n",
    "        [1, None, None],   # ramo da esquerda, nível 2\n",
    "        [3, None, None]    # ramo da direita, nível 2\n",
    "    ],\n",
    "    [               # ramo da direita, nível 1\n",
    "        5,          # valor filho da direita\n",
    "        None,              # ramo da esquerda, nível 2\n",
    "        None               # ramo da direita, nível 2\n",
    "    ]\n",
    "]\n",
    "\n"
   ]
  }
 ],
 "metadata": {
  "kernelspec": {
   "display_name": "Python 3",
   "language": "python",
   "name": "python3"
  },
  "language_info": {
   "codemirror_mode": {
    "name": "ipython",
    "version": 3
   },
   "file_extension": ".py",
   "mimetype": "text/x-python",
   "name": "python",
   "nbconvert_exporter": "python",
   "pygments_lexer": "ipython3",
   "version": "3.11.9"
  }
 },
 "nbformat": 4,
 "nbformat_minor": 5
}
